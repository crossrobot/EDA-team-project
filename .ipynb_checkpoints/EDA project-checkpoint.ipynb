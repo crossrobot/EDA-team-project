{
 "cells": [
  {
   "cell_type": "markdown",
   "metadata": {},
   "source": [
    "# 1. 데이터 가져오기 "
   ]
  },
  {
   "cell_type": "code",
   "execution_count": 171,
   "metadata": {},
   "outputs": [],
   "source": [
    "import pandas as pd\n",
    "import re"
   ]
  },
  {
   "cell_type": "code",
   "execution_count": 172,
   "metadata": {},
   "outputs": [
    {
     "data": {
      "text/html": [
       "<div>\n",
       "<style scoped>\n",
       "    .dataframe tbody tr th:only-of-type {\n",
       "        vertical-align: middle;\n",
       "    }\n",
       "\n",
       "    .dataframe tbody tr th {\n",
       "        vertical-align: top;\n",
       "    }\n",
       "\n",
       "    .dataframe thead th {\n",
       "        text-align: right;\n",
       "    }\n",
       "</style>\n",
       "<table border=\"1\" class=\"dataframe\">\n",
       "  <thead>\n",
       "    <tr style=\"text-align: right;\">\n",
       "      <th></th>\n",
       "      <th>Unnamed: 0</th>\n",
       "      <th>title</th>\n",
       "      <th>rating</th>\n",
       "      <th>date</th>\n",
       "      <th>time</th>\n",
       "      <th>view</th>\n",
       "      <th>text</th>\n",
       "      <th>naver</th>\n",
       "      <th>photo</th>\n",
       "    </tr>\n",
       "  </thead>\n",
       "  <tbody>\n",
       "    <tr>\n",
       "      <th>27119</th>\n",
       "      <td>27119</td>\n",
       "      <td>만족</td>\n",
       "      <td>5점</td>\n",
       "      <td>2018-08-26</td>\n",
       "      <td>02:21:43</td>\n",
       "      <td>17</td>\n",
       "      <td>만족합니다</td>\n",
       "      <td>1</td>\n",
       "      <td>0</td>\n",
       "    </tr>\n",
       "    <tr>\n",
       "      <th>27120</th>\n",
       "      <td>27120</td>\n",
       "      <td>보통</td>\n",
       "      <td>3점</td>\n",
       "      <td>2018-08-25</td>\n",
       "      <td>02:34:32</td>\n",
       "      <td>18</td>\n",
       "      <td>먹은지 일주일이지만, 아직은 잘 모르겠어요!</td>\n",
       "      <td>1</td>\n",
       "      <td>0</td>\n",
       "    </tr>\n",
       "    <tr>\n",
       "      <th>27121</th>\n",
       "      <td>27121</td>\n",
       "      <td>만족</td>\n",
       "      <td>5점</td>\n",
       "      <td>2018-08-25</td>\n",
       "      <td>02:23:30</td>\n",
       "      <td>20</td>\n",
       "      <td>더 먹어봐야 알겟지만 좋은거같아요</td>\n",
       "      <td>1</td>\n",
       "      <td>0</td>\n",
       "    </tr>\n",
       "    <tr>\n",
       "      <th>27122</th>\n",
       "      <td>27122</td>\n",
       "      <td>만족</td>\n",
       "      <td>5점</td>\n",
       "      <td>2018-08-25</td>\n",
       "      <td>02:23:30</td>\n",
       "      <td>17</td>\n",
       "      <td>좋네요오오오ㅎㅎㅇㅋ오 ㅎㅎ</td>\n",
       "      <td>1</td>\n",
       "      <td>0</td>\n",
       "    </tr>\n",
       "    <tr>\n",
       "      <th>27123</th>\n",
       "      <td>27123</td>\n",
       "      <td>보통</td>\n",
       "      <td>3점</td>\n",
       "      <td>2018-08-24</td>\n",
       "      <td>02:49:49</td>\n",
       "      <td>16</td>\n",
       "      <td>계속 먹어보면 알겠죠 아직은 별효과업근긋</td>\n",
       "      <td>1</td>\n",
       "      <td>0</td>\n",
       "    </tr>\n",
       "    <tr>\n",
       "      <th>...</th>\n",
       "      <td>...</td>\n",
       "      <td>...</td>\n",
       "      <td>...</td>\n",
       "      <td>...</td>\n",
       "      <td>...</td>\n",
       "      <td>...</td>\n",
       "      <td>...</td>\n",
       "      <td>...</td>\n",
       "      <td>...</td>\n",
       "    </tr>\n",
       "    <tr>\n",
       "      <th>27214</th>\n",
       "      <td>27214</td>\n",
       "      <td>만족</td>\n",
       "      <td>5점</td>\n",
       "      <td>2018-07-11</td>\n",
       "      <td>02:24:45</td>\n",
       "      <td>7</td>\n",
       "      <td>개별포장 편하고 좋네요</td>\n",
       "      <td>1</td>\n",
       "      <td>0</td>\n",
       "    </tr>\n",
       "    <tr>\n",
       "      <th>27215</th>\n",
       "      <td>27215</td>\n",
       "      <td>만족</td>\n",
       "      <td>5점</td>\n",
       "      <td>2018-07-07</td>\n",
       "      <td>02:41:20</td>\n",
       "      <td>8</td>\n",
       "      <td>여자친구님께서 매우 만족하셨습니다.</td>\n",
       "      <td>1</td>\n",
       "      <td>0</td>\n",
       "    </tr>\n",
       "    <tr>\n",
       "      <th>27216</th>\n",
       "      <td>27216</td>\n",
       "      <td>만족</td>\n",
       "      <td>5점</td>\n",
       "      <td>2018-07-02</td>\n",
       "      <td>02:38:11</td>\n",
       "      <td>33</td>\n",
       "      <td>좋은구성이네요 효과봤으면 좋겠네요</td>\n",
       "      <td>1</td>\n",
       "      <td>0</td>\n",
       "    </tr>\n",
       "    <tr>\n",
       "      <th>27217</th>\n",
       "      <td>27217</td>\n",
       "      <td>만족</td>\n",
       "      <td>5점</td>\n",
       "      <td>2018-06-27</td>\n",
       "      <td>02:56:11</td>\n",
       "      <td>34</td>\n",
       "      <td>이제받았어요</td>\n",
       "      <td>1</td>\n",
       "      <td>0</td>\n",
       "    </tr>\n",
       "    <tr>\n",
       "      <th>27218</th>\n",
       "      <td>27218</td>\n",
       "      <td>만족</td>\n",
       "      <td>5점</td>\n",
       "      <td>2018-06-26</td>\n",
       "      <td>02:29:45</td>\n",
       "      <td>35</td>\n",
       "      <td>배송이 좀 늦었어요...ㅠㅠ\\n원하는 날부터 시작은 못했지만 기대해봅니다ㅎㅎ</td>\n",
       "      <td>1</td>\n",
       "      <td>0</td>\n",
       "    </tr>\n",
       "  </tbody>\n",
       "</table>\n",
       "<p>100 rows × 9 columns</p>\n",
       "</div>"
      ],
      "text/plain": [
       "       Unnamed: 0 title rating        date      time  view  \\\n",
       "27119  27119       만족    5점     2018-08-26  02:21:43  17     \n",
       "27120  27120       보통    3점     2018-08-25  02:34:32  18     \n",
       "27121  27121       만족    5점     2018-08-25  02:23:30  20     \n",
       "27122  27122       만족    5점     2018-08-25  02:23:30  17     \n",
       "27123  27123       보통    3점     2018-08-24  02:49:49  16     \n",
       "...      ...       ..    ..            ...       ...  ..     \n",
       "27214  27214       만족    5점     2018-07-11  02:24:45  7      \n",
       "27215  27215       만족    5점     2018-07-07  02:41:20  8      \n",
       "27216  27216       만족    5점     2018-07-02  02:38:11  33     \n",
       "27217  27217       만족    5점     2018-06-27  02:56:11  34     \n",
       "27218  27218       만족    5점     2018-06-26  02:29:45  35     \n",
       "\n",
       "                                             text  naver  photo  \n",
       "27119  만족합니다                                       1      0      \n",
       "27120  먹은지 일주일이지만, 아직은 잘 모르겠어요!                    1      0      \n",
       "27121  더 먹어봐야 알겟지만 좋은거같아요                          1      0      \n",
       "27122  좋네요오오오ㅎㅎㅇㅋ오 ㅎㅎ                              1      0      \n",
       "27123  계속 먹어보면 알겠죠 아직은 별효과업근긋                      1      0      \n",
       "...                       ...                     ..     ..      \n",
       "27214  개별포장 편하고 좋네요                                1      0      \n",
       "27215  여자친구님께서 매우 만족하셨습니다.                         1      0      \n",
       "27216  좋은구성이네요 효과봤으면 좋겠네요                          1      0      \n",
       "27217  이제받았어요                                      1      0      \n",
       "27218  배송이 좀 늦었어요...ㅠㅠ\\n원하는 날부터 시작은 못했지만 기대해봅니다ㅎㅎ  1      0      \n",
       "\n",
       "[100 rows x 9 columns]"
      ]
     },
     "execution_count": 172,
     "metadata": {},
     "output_type": "execute_result"
    }
   ],
   "source": [
    "review4us = pd.read_csv(\"자사리뷰.csv\")\n",
    "review4rivals = pd.read_csv(\"경쟁사리뷰.csv\")\n",
    "\n",
    "review4us.tail(100)"
   ]
  },
  {
   "cell_type": "code",
   "execution_count": 173,
   "metadata": {},
   "outputs": [
    {
     "name": "stdout",
     "output_type": "stream",
     "text": [
      "Index(['date', 'item', 'text', 'rating', 'user_name', 'photo', 'one_month',\n",
      "       'repurchase', 'pre_reviewed'],\n",
      "      dtype='object') Index(['title', 'rating', 'date', 'time', 'view', 'text', 'naver', 'photo'], dtype='object')\n"
     ]
    }
   ],
   "source": [
    "#unnamed는 필요없는 열이므로 제거한다\n",
    "del review4rivals['Unnamed: 0']\n",
    "del review4us['Unnamed: 0']\n",
    "\n",
    "# Unnamed 열이 사라졌음을 볼 수 있다. \n",
    "print(review4rivals.columns, review4us.columns)"
   ]
  },
  {
   "cell_type": "markdown",
   "metadata": {},
   "source": [
    "# 2. 분석 전 데이터 전처리 \n",
    "* review4rivlas 의 item 종류에 각종 특수문자, 의미없는 숫자 제거하기. \n",
    "- https://regexr.com/ 이 사이트를 이용하면 정규표현식을 그나마 손쉽게 try out 할 수 있다. \n",
    "* text colum에 있는 특수문자들 제거하기. \n",
    "* unnamed column은 뭐지? "
   ]
  },
  {
   "cell_type": "code",
   "execution_count": 174,
   "metadata": {},
   "outputs": [],
   "source": [
    "# item 종류에 있는 각종 특수문자와 의미없는 문자 제거하기 : ': 세미콜론 위에 있는 글자는 다 없애기.  '\n",
    "def modify1(item):\n",
    "    x=re.sub(r'[^.]*:([^ ]*)', '', str(item))     ## 이거 알아내는데 5시간 걸렸다.. 실환가?\n",
    "    return(x)   \n",
    "\n",
    "review4rivals['item'] = review4rivals['item'].apply(modify1)\n",
    "\n",
    "\n",
    "def modify2(item):                    # 특수문자 제거 \n",
    "    x=re.sub(r'[^\\s\\w]','',str(item))               \n",
    "    return(x)\n",
    "review4rivals['item'] = review4rivals['item'].apply(modify2)\n",
    "\n",
    "def modify3(item):                   #락토핏 앞에 거슬렸던 2, 9, 3과 같은 숫자들이 사라진다. \n",
    "    x=re.sub('\\d(락토핏)','락토핏',str(item))\n",
    "    return(x)\n",
    "review4rivals['item'] = review4rivals['item'].apply(modify3)\n",
    "\n",
    "def modify4(item):\n",
    "    x=re.sub('\\d.','',str(item))     # 몇통, 몇포와 같은 수량정보를 제거한다. 다만 락토핏 코스트코 생유산균19 라는 제품명이 생유산균 으로 바뀌는 단점이 있다. \n",
    "    return(x)\n",
    "review4rivals['item'] = review4rivals['item'].apply(modify4)"
   ]
  },
  {
   "cell_type": "code",
   "execution_count": 175,
   "metadata": {},
   "outputs": [
    {
     "data": {
      "text/plain": [
       "0         락토핏 생유산균 골드   \n",
       "1         락토핏 생유산균 골드   \n",
       "2         락토핏 생유산균 골드   \n",
       "3         락토핏 생유산균 키즈   \n",
       "4         락토핏 생유산균 골드   \n",
       "             ...        \n",
       "36392     락토핏 코스트코 생유산균 \n",
       "36393     락토핏 생유산균 골드   \n",
       "36394     락토핏 생유산균 골드   \n",
       "36395     락토핏 코스트코 생유산균 \n",
       "36396     락토핏 생유산균 골드   \n",
       "Name: item, Length: 36397, dtype: object"
      ]
     },
     "execution_count": 175,
     "metadata": {},
     "output_type": "execute_result"
    }
   ],
   "source": [
    "review4rivals['item']"
   ]
  },
  {
   "cell_type": "code",
   "execution_count": 179,
   "metadata": {},
   "outputs": [
    {
     "data": {
      "text/plain": [
       "array([' 락토핏 생유산균 골드', ' 락토핏 생유산균 골드', ' 락토핏 생유산균 골드', ...,\n",
       "       ' 락토핏 생유산균 골드 ', ' 락토핏 코스트코 생유산균 ', ' 락토핏 생유산균 골드 '], dtype=object)"
      ]
     },
     "execution_count": 179,
     "metadata": {},
     "output_type": "execute_result"
    }
   ],
   "source": [
    "review4rivals.item.values"
   ]
  },
  {
   "cell_type": "code",
   "execution_count": null,
   "metadata": {},
   "outputs": [],
   "source": []
  }
 ],
 "metadata": {
  "kernelspec": {
   "display_name": "Python 3",
   "language": "python",
   "name": "python3"
  },
  "language_info": {
   "codemirror_mode": {
    "name": "ipython",
    "version": 3
   },
   "file_extension": ".py",
   "mimetype": "text/x-python",
   "name": "python",
   "nbconvert_exporter": "python",
   "pygments_lexer": "ipython3",
   "version": "3.8.3"
  }
 },
 "nbformat": 4,
 "nbformat_minor": 4
}
